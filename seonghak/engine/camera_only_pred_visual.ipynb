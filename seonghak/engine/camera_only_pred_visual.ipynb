{
 "cells": [
  {
   "cell_type": "code",
   "execution_count": 3,
   "metadata": {},
   "outputs": [],
   "source": [
    "import torch\n",
    "import numpy as np\n",
    "import matplotlib.pyplot as plt\n",
    "import matplotlib.patches as patches\n",
    "from dataset import RadarCameraYoloDataset\n",
    "from models import CameraYOLO\n",
    "from utils import bbox_iou"
   ]
  },
  {
   "cell_type": "code",
   "execution_count": 4,
   "metadata": {},
   "outputs": [
    {
     "data": {
      "text/plain": [
       "CameraYOLO(\n",
       "  (camera_stem): Sequential(\n",
       "    (0): Conv2d(3, 64, kernel_size=(3, 3), stride=(2, 2), padding=(1, 1))\n",
       "    (1): BatchNorm2d(64, eps=1e-05, momentum=0.1, affine=True, track_running_stats=True)\n",
       "    (2): SiLU()\n",
       "    (3): CSPBlock(\n",
       "      (conv1): Conv2d(64, 64, kernel_size=(1, 1), stride=(1, 1), bias=False)\n",
       "      (conv2): Conv2d(64, 64, kernel_size=(1, 1), stride=(1, 1), bias=False)\n",
       "      (bottlenecks): Sequential(\n",
       "        (0): Sequential(\n",
       "          (0): Conv2d(64, 64, kernel_size=(3, 3), stride=(1, 1), padding=(1, 1), bias=False)\n",
       "          (1): BatchNorm2d(64, eps=1e-05, momentum=0.1, affine=True, track_running_stats=True)\n",
       "          (2): SiLU()\n",
       "        )\n",
       "        (1): Sequential(\n",
       "          (0): Conv2d(64, 64, kernel_size=(3, 3), stride=(1, 1), padding=(1, 1), bias=False)\n",
       "          (1): BatchNorm2d(64, eps=1e-05, momentum=0.1, affine=True, track_running_stats=True)\n",
       "          (2): SiLU()\n",
       "        )\n",
       "        (2): Sequential(\n",
       "          (0): Conv2d(64, 64, kernel_size=(3, 3), stride=(1, 1), padding=(1, 1), bias=False)\n",
       "          (1): BatchNorm2d(64, eps=1e-05, momentum=0.1, affine=True, track_running_stats=True)\n",
       "          (2): SiLU()\n",
       "        )\n",
       "      )\n",
       "      (final_conv): Sequential(\n",
       "        (0): Conv2d(128, 128, kernel_size=(1, 1), stride=(1, 1), bias=False)\n",
       "        (1): BatchNorm2d(128, eps=1e-05, momentum=0.1, affine=True, track_running_stats=True)\n",
       "        (2): SiLU()\n",
       "      )\n",
       "    )\n",
       "  )\n",
       "  (backbone): CSPDarknet(\n",
       "    (stage1): CSPBlock(\n",
       "      (conv1): Conv2d(128, 128, kernel_size=(1, 1), stride=(2, 2), bias=False)\n",
       "      (conv2): Conv2d(128, 128, kernel_size=(1, 1), stride=(2, 2), bias=False)\n",
       "      (bottlenecks): Sequential(\n",
       "        (0): Sequential(\n",
       "          (0): Conv2d(128, 128, kernel_size=(3, 3), stride=(1, 1), padding=(1, 1), bias=False)\n",
       "          (1): BatchNorm2d(128, eps=1e-05, momentum=0.1, affine=True, track_running_stats=True)\n",
       "          (2): SiLU()\n",
       "        )\n",
       "        (1): Sequential(\n",
       "          (0): Conv2d(128, 128, kernel_size=(3, 3), stride=(1, 1), padding=(1, 1), bias=False)\n",
       "          (1): BatchNorm2d(128, eps=1e-05, momentum=0.1, affine=True, track_running_stats=True)\n",
       "          (2): SiLU()\n",
       "        )\n",
       "        (2): Sequential(\n",
       "          (0): Conv2d(128, 128, kernel_size=(3, 3), stride=(1, 1), padding=(1, 1), bias=False)\n",
       "          (1): BatchNorm2d(128, eps=1e-05, momentum=0.1, affine=True, track_running_stats=True)\n",
       "          (2): SiLU()\n",
       "        )\n",
       "      )\n",
       "      (final_conv): Sequential(\n",
       "        (0): Conv2d(256, 256, kernel_size=(1, 1), stride=(1, 1), bias=False)\n",
       "        (1): BatchNorm2d(256, eps=1e-05, momentum=0.1, affine=True, track_running_stats=True)\n",
       "        (2): SiLU()\n",
       "      )\n",
       "    )\n",
       "    (stage2): CSPBlock(\n",
       "      (conv1): Conv2d(256, 256, kernel_size=(1, 1), stride=(2, 2), bias=False)\n",
       "      (conv2): Conv2d(256, 256, kernel_size=(1, 1), stride=(2, 2), bias=False)\n",
       "      (bottlenecks): Sequential(\n",
       "        (0): Sequential(\n",
       "          (0): Conv2d(256, 256, kernel_size=(3, 3), stride=(1, 1), padding=(1, 1), bias=False)\n",
       "          (1): BatchNorm2d(256, eps=1e-05, momentum=0.1, affine=True, track_running_stats=True)\n",
       "          (2): SiLU()\n",
       "        )\n",
       "        (1): Sequential(\n",
       "          (0): Conv2d(256, 256, kernel_size=(3, 3), stride=(1, 1), padding=(1, 1), bias=False)\n",
       "          (1): BatchNorm2d(256, eps=1e-05, momentum=0.1, affine=True, track_running_stats=True)\n",
       "          (2): SiLU()\n",
       "        )\n",
       "        (2): Sequential(\n",
       "          (0): Conv2d(256, 256, kernel_size=(3, 3), stride=(1, 1), padding=(1, 1), bias=False)\n",
       "          (1): BatchNorm2d(256, eps=1e-05, momentum=0.1, affine=True, track_running_stats=True)\n",
       "          (2): SiLU()\n",
       "        )\n",
       "      )\n",
       "      (final_conv): Sequential(\n",
       "        (0): Conv2d(512, 512, kernel_size=(1, 1), stride=(1, 1), bias=False)\n",
       "        (1): BatchNorm2d(512, eps=1e-05, momentum=0.1, affine=True, track_running_stats=True)\n",
       "        (2): SiLU()\n",
       "      )\n",
       "    )\n",
       "    (stage3): CSPBlock(\n",
       "      (conv1): Conv2d(512, 512, kernel_size=(1, 1), stride=(2, 2), bias=False)\n",
       "      (conv2): Conv2d(512, 512, kernel_size=(1, 1), stride=(2, 2), bias=False)\n",
       "      (bottlenecks): Sequential(\n",
       "        (0): Sequential(\n",
       "          (0): Conv2d(512, 512, kernel_size=(3, 3), stride=(1, 1), padding=(1, 1), bias=False)\n",
       "          (1): BatchNorm2d(512, eps=1e-05, momentum=0.1, affine=True, track_running_stats=True)\n",
       "          (2): SiLU()\n",
       "        )\n",
       "      )\n",
       "      (final_conv): Sequential(\n",
       "        (0): Conv2d(1024, 1024, kernel_size=(1, 1), stride=(1, 1), bias=False)\n",
       "        (1): BatchNorm2d(1024, eps=1e-05, momentum=0.1, affine=True, track_running_stats=True)\n",
       "        (2): SiLU()\n",
       "      )\n",
       "    )\n",
       "  )\n",
       "  (neck): YOLOv8Neck(\n",
       "    (conv1): Conv2d(1024, 512, kernel_size=(1, 1), stride=(1, 1), bias=False)\n",
       "    (bn1): BatchNorm2d(512, eps=1e-05, momentum=0.1, affine=True, track_running_stats=True)\n",
       "    (conv2): Conv2d(512, 256, kernel_size=(3, 3), stride=(1, 1), padding=(1, 1), bias=False)\n",
       "    (bn2): BatchNorm2d(256, eps=1e-05, momentum=0.1, affine=True, track_running_stats=True)\n",
       "  )\n",
       "  (head): YOLOv8Head(\n",
       "    (cls_head): Conv2d(256, 7, kernel_size=(1, 1), stride=(1, 1))\n",
       "    (reg_head): Conv2d(256, 4, kernel_size=(1, 1), stride=(1, 1))\n",
       "    (obj_head): Conv2d(256, 1, kernel_size=(1, 1), stride=(1, 1))\n",
       "  )\n",
       ")"
      ]
     },
     "execution_count": 4,
     "metadata": {},
     "output_type": "execute_result"
    }
   ],
   "source": [
    "# ✅ 학습된 모델 불러오기\n",
    "model = CameraYOLO(num_classes=7)  # 동일한 모델 구조 사용\n",
    "model.load_state_dict(torch.load(\"trained_model.pth\"))\n",
    "model.eval()  # 모델을 평가 모드로 변경"
   ]
  },
  {
   "cell_type": "code",
   "execution_count": 12,
   "metadata": {},
   "outputs": [
    {
     "name": "stdout",
     "output_type": "stream",
     "text": [
      "torch.Size([3, 320, 320])\n",
      "torch.Size([4, 160, 160])\n"
     ]
    }
   ],
   "source": [
    "dataset = RadarCameraYoloDataset(data_root=\"../../WaterScenes/sample_dataset/\")\n",
    "image, radar, labels = dataset[34]\n",
    "print(image.shape) # B, C, H, W\n",
    "print(radar.shape)\n",
    "\n",
    "image = image.unsqueeze(0)\n",
    "H, W = image.shape[2], image.shape[3]"
   ]
  },
  {
   "cell_type": "code",
   "execution_count": 13,
   "metadata": {},
   "outputs": [
    {
     "name": "stdout",
     "output_type": "stream",
     "text": [
      "(400, 4)\n",
      "(400,)\n",
      "(400, 7)\n",
      "(400,)\n"
     ]
    }
   ],
   "source": [
    "# ✅ 모델을 사용하여 예측 수행\n",
    "with torch.no_grad():\n",
    "    predictions = model(image)  # (1, N, num_classes + 5) 형태\n",
    "\n",
    "# ✅ 예측 결과 파싱\n",
    "predictions = predictions.squeeze(0).numpy()  # (N, num_classes + 5)\n",
    "pred_boxes = predictions[:, :4]  # (N, 4) → x_center, y_center, width, height\n",
    "print(pred_boxes.shape)\n",
    "obj_confidences = predictions[:, 4]  # (N,) → Objectness Score\n",
    "print(obj_confidences.shape)\n",
    "class_probs = predictions[:, 5:]  # (N, num_classes) → 클래스 확률\n",
    "print(class_probs.shape)\n",
    "\n",
    "# ✅ 예측된 클래스 결정 (가장 높은 확률 가진 클래스 선택)\n",
    "pred_class_ids = np.argmax(class_probs, axis=1)  # (N,)\n",
    "print(pred_class_ids.shape)\n",
    "\n",
    "# # ✅ 특정 Confidence 이상인 박스만 필터링\n",
    "# confidence_threshold = 0.02\n",
    "# filtered_indices = obj_confidences > confidence_threshold\n",
    "# pred_boxes = pred_boxes[filtered_indices]\n",
    "# pred_class_ids = pred_class_ids[filtered_indices]\n",
    "# print(pred_boxes.shape)\n",
    "# print(pred_class_ids.shape)"
   ]
  },
  {
   "cell_type": "code",
   "execution_count": 14,
   "metadata": {},
   "outputs": [
    {
     "name": "stdout",
     "output_type": "stream",
     "text": [
      "torch.Size([4, 5])\n",
      "torch.Size([5])\n",
      "(400, 4)\n"
     ]
    }
   ],
   "source": [
    "print(labels.shape)\n",
    "\n",
    "# ✅ GT 바운딩 박스 변환 (YOLO → 픽셀)\n",
    "gt_boxes = np.array(labels)[:, 1:5]  # (M, 4)\n",
    "gt_boxes[:, [0, 2]] *= W  # x_center, width 조정\n",
    "gt_boxes[:, [1, 3]] *= H  # y_center, height 조정\n",
    "\n",
    "print(labels[0].shape)\n",
    "\n",
    "# ✅ 예측 바운딩 박스 변환 (YOLO → 픽셀)\n",
    "pred_boxes[:, [0, 2]] *= W  # x_center, width 조정\n",
    "pred_boxes[:, [1, 3]] *= H  # y_center, height 조정\n",
    "\n",
    "print(pred_boxes.shape)\n"
   ]
  },
  {
   "cell_type": "code",
   "execution_count": 15,
   "metadata": {},
   "outputs": [
    {
     "name": "stdout",
     "output_type": "stream",
     "text": [
      "torch.Size([400, 4])\n",
      "tensor([0.3135, 0.1838, 0.3186, 0.4428])\n"
     ]
    }
   ],
   "source": [
    "# ✅ GT와 예측 박스 간 IoU 계산\n",
    "iou_matrix = bbox_iou(pred_boxes, gt_boxes)  # (N, M)\n",
    "print(iou_matrix.shape)\n",
    "best_iou, best_pred_idx = iou_matrix.max(axis=0)  # (M,)\n",
    "print(best_iou)\n",
    "\n",
    "matched_preds = pred_boxes[best_pred_idx]\n",
    "matched_classes = pred_class_ids[best_pred_idx]"
   ]
  },
  {
   "cell_type": "code",
   "execution_count": 16,
   "metadata": {},
   "outputs": [
    {
     "name": "stderr",
     "output_type": "stream",
     "text": [
      "Clipping input data to the valid range for imshow with RGB data ([0..1] for floats or [0..255] for integers).\n"
     ]
    },
    {
     "data": {
      "image/png": "[encoded data removed]",
      "text/plain": [
       "<Figure size 800x400 with 1 Axes>"
      ]
     },
     "metadata": {},
     "output_type": "display_data"
    }
   ],
   "source": [
    "# ✅ 시각화\n",
    "image = np.transpose(image.squeeze(0).numpy(), (1, 2, 0))  # (H, W, C)\n",
    "fig, ax = plt.subplots(1, figsize=(8, 4))\n",
    "ax.imshow(image)\n",
    "\n",
    "# 🔴 1️⃣ Ground Truth 박스 (빨간색)\n",
    "for lbl in labels:\n",
    "    class_id, x_center, y_center, width, height = lbl.numpy()\n",
    "    x_min = (x_center - width / 2) * W\n",
    "    y_min = (y_center - height / 2) * H\n",
    "    box_w = width * W\n",
    "    box_h = height * H\n",
    "\n",
    "    rect = patches.Rectangle(\n",
    "        (x_min, y_min), box_w, box_h, linewidth=2, edgecolor=\"red\", facecolor=\"none\"\n",
    "    )\n",
    "    ax.add_patch(rect)\n",
    "    ax.text(x_min, y_min - 5, f\"GT {int(class_id)}\", color=\"red\", fontsize=10, weight=\"bold\")\n",
    "\n",
    "# 🔵 2️⃣ IoU 높은 예측 박스 (파란색)\n",
    "for i in range(len(matched_preds)):\n",
    "    x_center, y_center, width, height = matched_preds[i]\n",
    "    x_min = x_center - width / 2\n",
    "    y_min = y_center - height / 2\n",
    "    box_w = width\n",
    "    box_h = height\n",
    "\n",
    "    rect = patches.Rectangle(\n",
    "        (x_min, y_min), box_w, box_h, linewidth=2, edgecolor=\"blue\", facecolor=\"none\"\n",
    "    )\n",
    "    ax.add_patch(rect)\n",
    "    ax.text(x_min, y_min - 5, f\"Pred {int(matched_classes[i])}\", color=\"blue\", fontsize=10, weight=\"bold\")\n",
    "\n",
    "plt.title(\"GT vs IoU-Matched Predictions\")\n",
    "plt.show()"
   ]
  },
  {
   "cell_type": "code",
   "execution_count": null,
   "metadata": {},
   "outputs": [],
   "source": []
  }
 ],
 "metadata": {
  "kernelspec": {
   "display_name": "fusion",
   "language": "python",
   "name": "python3"
  },
  "language_info": {
   "codemirror_mode": {
    "name": "ipython",
    "version": 3
   },
   "file_extension": ".py",
   "mimetype": "text/x-python",
   "name": "python",
   "nbconvert_exporter": "python",
   "pygments_lexer": "ipython3",
   "version": "3.7.12"
  }
 },
 "nbformat": 4,
 "nbformat_minor": 2
}
