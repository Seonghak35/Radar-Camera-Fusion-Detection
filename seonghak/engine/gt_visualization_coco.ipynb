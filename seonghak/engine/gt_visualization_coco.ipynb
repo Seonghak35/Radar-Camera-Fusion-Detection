{
 "cells": [
  {
   "cell_type": "code",
   "execution_count": null,
   "metadata": {},
   "outputs": [],
   "source": [
    "import numpy as np\n",
    "import matplotlib.pyplot as plt\n",
    "import matplotlib.patches as patches\n",
    "import random\n",
    "\n",
    "from dataset import CoCoYoloDataset"
   ]
  },
  {
   "cell_type": "code",
   "execution_count": null,
   "metadata": {},
   "outputs": [],
   "source": [
    "dataset = CoCoYoloDataset(data_root=\"../data/coco/\")"
   ]
  },
  {
   "cell_type": "code",
   "execution_count": null,
   "metadata": {},
   "outputs": [],
   "source": [
    "random_idx = random.randint(0, len(dataset))\n",
    "print(random_idx)\n",
    "image, labels = dataset[random_idx]\n",
    "\n",
    "print(labels)\n",
    "print(image.shape) # B, C, H, W\n",
    "\n",
    "image = np.transpose(image, (1, 2, 0))\n",
    "H, W, _ = image.shape"
   ]
  },
  {
   "cell_type": "code",
   "execution_count": null,
   "metadata": {},
   "outputs": [],
   "source": [
    "plt.figure(figsize=(18, 6))\n",
    "\n",
    "# 1️⃣ 원본 RGB 이미지\n",
    "plt.subplot(1, 1, 1)  \n",
    "plt.imshow(image)  # (C, H, W) → (H, W, C)\n",
    "plt.title(\"RGB Image\")\n",
    "\n",
    "plt.tight_layout()"
   ]
  },
  {
   "cell_type": "code",
   "execution_count": null,
   "metadata": {},
   "outputs": [],
   "source": [
    "# 3️⃣ 라벨 데이터 출력\n",
    "for lbl in labels:\n",
    "    print(f\"Class: {lbl[0].item()}, x_center: {lbl[1].item()}, y_center: {lbl[2].item()}, width: {lbl[3].item()}, height: {lbl[4].item()}\")\n",
    "\n",
    "fig, ax = plt.subplots(1, figsize=(18, 6))\n",
    "ax.imshow(image)\n",
    "\n",
    "print(labels)\n",
    "\n",
    "# 바운딩 박스 그리기\n",
    "for lbl in labels:\n",
    "    class_id, x_center, y_center, width, height = lbl.numpy()\n",
    "    \n",
    "    # YOLO 형식 (정규화된 좌표) → 실제 좌표 변환\n",
    "    x_min = (x_center - width / 2) * W\n",
    "    y_min = (y_center - height / 2) * H\n",
    "    box_w = width * W\n",
    "    box_h = height * H\n",
    "\n",
    "    # 바운딩 박스 추가\n",
    "    rect = patches.Rectangle(\n",
    "        (x_min, y_min), box_w, box_h, linewidth=2, edgecolor=\"red\", facecolor=\"none\"\n",
    "    )\n",
    "    ax.add_patch(rect)\n",
    "    ax.text(x_min, y_min - 5, f\"Class {int(class_id)}\", color=\"red\", fontsize=12, weight=\"bold\")\n",
    "\n",
    "plt.title(\"Bounding Box Visualization\")\n",
    "plt.show()"
   ]
  },
  {
   "cell_type": "code",
   "execution_count": null,
   "metadata": {},
   "outputs": [],
   "source": []
  }
 ],
 "metadata": {
  "kernelspec": {
   "display_name": "fusion",
   "language": "python",
   "name": "python3"
  },
  "language_info": {
   "codemirror_mode": {
    "name": "ipython",
    "version": 3
   },
   "file_extension": ".py",
   "mimetype": "text/x-python",
   "name": "python",
   "nbconvert_exporter": "python",
   "pygments_lexer": "ipython3",
   "version": "3.7.12"
  }
 },
 "nbformat": 4,
 "nbformat_minor": 2
}
