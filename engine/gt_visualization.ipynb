{
 "cells": [
  {
   "cell_type": "code",
   "execution_count": 1,
   "metadata": {},
   "outputs": [
    {
     "name": "stderr",
     "output_type": "stream",
     "text": [
      "/opt/conda/envs/rcfd/lib/python3.7/site-packages/tqdm/auto.py:21: TqdmWarning: IProgress not found. Please update jupyter and ipywidgets. See https://ipywidgets.readthedocs.io/en/stable/user_install.html\n",
      "  from .autonotebook import tqdm as notebook_tqdm\n"
     ]
    }
   ],
   "source": [
    "import numpy as np\n",
    "import matplotlib.pyplot as plt\n",
    "import matplotlib.patches as patches\n",
    "from dataset import RadarCameraYoloDataset"
   ]
  },
  {
   "cell_type": "code",
   "execution_count": 2,
   "metadata": {},
   "outputs": [],
   "source": [
    "dataset = RadarCameraYoloDataset(data_root=\"../../WaterScenes/sample_dataset/\")"
   ]
  },
  {
   "cell_type": "code",
   "execution_count": 3,
   "metadata": {},
   "outputs": [
    {
     "name": "stdout",
     "output_type": "stream",
     "text": [
      "torch.Size([3, 160, 160])\n",
      "torch.Size([4, 160, 160])\n",
      "Radar REVP has 4 channels.\n"
     ]
    }
   ],
   "source": [
    "image, radar, labels = dataset[0]\n",
    "\n",
    "print(image.shape) # B, C, H, W\n",
    "print(radar.shape)\n",
    "\n",
    "image = np.transpose(image, (1, 2, 0))\n",
    "H, W, _ = image.shape\n",
    "\n",
    "num_channels = radar.shape[0]\n",
    "print(f\"Radar REVP has {num_channels} channels.\")"
   ]
  },
  {
   "cell_type": "code",
   "execution_count": null,
   "metadata": {},
   "outputs": [],
   "source": [
    "plt.figure(figsize=(18, 6))\n",
    "\n",
    "# 1️⃣ 원본 RGB 이미지\n",
    "plt.subplot(1, 5, 1)  \n",
    "plt.imshow(image)  # (C, H, W) → (H, W, C)\n",
    "plt.title(\"RGB Image\")\n",
    "\n",
    "# 2️⃣ 레이더 데이터 4채널 출력\n",
    "for i in range(num_channels):\n",
    "    plt.subplot(1, 5, i + 2)\n",
    "    plt.imshow(radar[i].numpy(), cmap=\"gray\")  # i번째 채널 출력\n",
    "    plt.title(f\"Radar Channel {i+1}\")\n",
    "    plt.axis(\"off\")\n",
    "\n",
    "plt.tight_layout()"
   ]
  },
  {
   "cell_type": "code",
   "execution_count": null,
   "metadata": {},
   "outputs": [],
   "source": [
    "# 3️⃣ 라벨 데이터 출력\n",
    "for lbl in labels:\n",
    "    print(f\"Class: {lbl[0].item()}, x_center: {lbl[1].item()}, y_center: {lbl[2].item()}, width: {lbl[3].item()}, height: {lbl[4].item()}\")\n",
    "\n",
    "fig, ax = plt.subplots(1, figsize=(8, 4))\n",
    "ax.imshow(image)\n",
    "\n",
    "# 바운딩 박스 그리기\n",
    "for lbl in labels:\n",
    "    class_id, x_center, y_center, width, height = lbl.numpy()\n",
    "    \n",
    "    # YOLO 형식 (정규화된 좌표) → 실제 좌표 변환\n",
    "    x_min = (x_center - width / 2) * W\n",
    "    y_min = (y_center - height / 2) * H\n",
    "    box_w = width * W\n",
    "    box_h = height * H\n",
    "\n",
    "    # 바운딩 박스 추가\n",
    "    rect = patches.Rectangle(\n",
    "        (x_min, y_min), box_w, box_h, linewidth=2, edgecolor=\"red\", facecolor=\"none\"\n",
    "    )\n",
    "    ax.add_patch(rect)\n",
    "    ax.text(x_min, y_min - 5, f\"Class {int(class_id)}\", color=\"red\", fontsize=12, weight=\"bold\")\n",
    "\n",
    "plt.title(\"Bounding Box Visualization\")\n",
    "plt.show()"
   ]
  },
  {
   "cell_type": "code",
   "execution_count": null,
   "metadata": {},
   "outputs": [],
   "source": []
  }
 ],
 "metadata": {
  "kernelspec": {
   "display_name": "Python 3",
   "language": "python",
   "name": "python3"
  },
  "language_info": {
   "codemirror_mode": {
    "name": "ipython",
    "version": 3
   },
   "file_extension": ".py",
   "mimetype": "text/x-python",
   "name": "python",
   "nbconvert_exporter": "python",
   "pygments_lexer": "ipython3",
   "version": "3.8.10"
  }
 },
 "nbformat": 4,
 "nbformat_minor": 2
}
