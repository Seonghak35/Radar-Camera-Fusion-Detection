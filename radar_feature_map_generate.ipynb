{
 "cells": [
  {
   "cell_type": "code",
   "execution_count": 7,
   "metadata": {},
   "outputs": [],
   "source": [
    "import os\n",
    "import torch\n",
    "import numpy as np\n",
    "import os\n",
    "#import cv2\n",
    "import pandas as pd\n",
    "import matplotlib.pyplot as plt\n",
    "from PIL import Image\n",
    "from tqdm import tqdm\n",
    "np.set_printoptions(suppress=True)"
   ]
  },
  {
   "cell_type": "code",
   "execution_count": 8,
   "metadata": {},
   "outputs": [],
   "source": [
    "radar_root = \"/workspaces/Radar-Camera-Fusion-Detection/WaterScenes/data/radar\"\n",
    "save_radar_map_root = \"/workspaces/Radar-Camera-Fusion-Detection/WaterScenes/data/radar/REVP_map\"\n",
    "if not os.path.exists(save_radar_map_root):\n",
    "    os.makedirs(save_radar_map_root)"
   ]
  },
  {
   "cell_type": "code",
   "execution_count": 9,
   "metadata": {},
   "outputs": [
    {
     "data": {
      "text/plain": [
       "51"
      ]
     },
     "execution_count": 9,
     "metadata": {},
     "output_type": "execute_result"
    }
   ],
   "source": [
    "radar_files = os.listdir(radar_root)\n",
    "len(radar_files)"
   ]
  },
  {
   "cell_type": "code",
   "execution_count": 10,
   "metadata": {},
   "outputs": [],
   "source": [
    "# u and v represents the x and y on 2D image plane\n",
    "features_list = ['range', 'elevation', 'doppler', 'power', 'u', 'v']"
   ]
  },
  {
   "cell_type": "code",
   "execution_count": 11,
   "metadata": {},
   "outputs": [],
   "source": [
    "resolution = 160\n",
    "original_width = 1920\n",
    "original_height = 1080\n",
    "\n",
    "x_scale = original_width / resolution\n",
    "y_scale = original_height / resolution"
   ]
  },
  {
   "cell_type": "code",
   "execution_count": 12,
   "metadata": {},
   "outputs": [
    {
     "name": "stderr",
     "output_type": "stream",
     "text": [
      "100%|██████████| 51/51 [00:00<00:00, 100.29it/s]"
     ]
    },
    {
     "name": "stdout",
     "output_type": "stream",
     "text": [
      "Warning: File /workspaces/Radar-Camera-Fusion-Detection/WaterScenes/data/radar/REVP_map not found, skipping...\n",
      "Processing completed successfully!\n"
     ]
    },
    {
     "name": "stderr",
     "output_type": "stream",
     "text": [
      "\n"
     ]
    }
   ],
   "source": [
    "for i in tqdm(range(len(radar_files))):\n",
    "    example_file = os.path.join(radar_root, radar_files[i])\n",
    "    \n",
    "    # 파일이 존재하는지 확인 (추가적인 예외처리)\n",
    "    if not os.path.isfile(example_file):\n",
    "        print(f\"Warning: File {example_file} not found, skipping...\")\n",
    "        continue\n",
    "\n",
    "    example_radar_points = pd.read_csv(example_file)[features_list].to_numpy()\n",
    "    example_radar_map = np.zeros((len(features_list)-2, resolution, resolution))\n",
    "\n",
    "    for channel in range(len(features_list)-2):\n",
    "        for line in example_radar_points:\n",
    "            try:\n",
    "                row_index = int(line[-2] / x_scale)\n",
    "                column_index = int(line[-1] / y_scale)\n",
    "                if example_radar_map[channel][row_index][column_index] != 0 and row_index >= 1:\n",
    "                    row_index -= 1\n",
    "                \n",
    "                example_radar_map[channel][row_index][column_index] = line[channel]\n",
    "            except Exception as e:\n",
    "                print(f\"Error processing point {line}: {e}\")\n",
    "                continue\n",
    "\n",
    "    example_radar_map = example_radar_map.transpose(0, 2, 1)\n",
    "\n",
    "    # 저장할 파일 경로\n",
    "    save_file_path = os.path.join(save_radar_map_root, radar_files[i][:-4] + '.npz')\n",
    "    \n",
    "    # 파일 저장\n",
    "    np.savez_compressed(save_file_path, example_radar_map)\n",
    "\n",
    "print(\"Processing completed successfully!\")\n"
   ]
  },
  {
   "cell_type": "code",
   "execution_count": 13,
   "metadata": {},
   "outputs": [
    {
     "name": "stdout",
     "output_type": "stream",
     "text": [
      "(4, 160, 160)\n"
     ]
    }
   ],
   "source": [
    "data = np.load(\"/workspaces/Radar-Camera-Fusion-Detection/WaterScenes/data/radar/REVP_map/000001.npz\")\n",
    "keys = data.files\n",
    "print(data['arr_0'].shape)"
   ]
  }
 ],
 "metadata": {
  "kernelspec": {
   "display_name": "rcfd",
   "language": "python",
   "name": "python3"
  },
  "language_info": {
   "codemirror_mode": {
    "name": "ipython",
    "version": 3
   },
   "file_extension": ".py",
   "mimetype": "text/x-python",
   "name": "python",
   "nbconvert_exporter": "python",
   "pygments_lexer": "ipython3",
   "version": "3.7.12"
  }
 },
 "nbformat": 4,
 "nbformat_minor": 2
}
